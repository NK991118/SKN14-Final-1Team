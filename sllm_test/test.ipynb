{
 "cells": [
  {
   "cell_type": "code",
   "id": "initial_id",
   "metadata": {
    "collapsed": true,
    "ExecuteTime": {
     "end_time": "2025-09-04T14:52:13.059752Z",
     "start_time": "2025-09-04T14:52:05.705942Z"
    }
   },
   "source": [
    "import requests\n",
    "\n",
    "url = \"http://sllm.code-nova.dev:8001/api/v1/chat\"\n",
    "headers = {\n",
    "    \"Content-Type\": \"application/json\"\n",
    "}\n",
    "data = {\n",
    "    \"history\": [\n",
    "        {\"type\": \"user\", \"content\": \"안녕 내 이름은 정민영이야\"},\n",
    "        {\"type\": \"assistant\", \"content\":'안녕하세요 정민영님~'},\n",
    "        {\"type\": \"user\", \"content\": \"내 이름이 뭐라고 했는지 기억해?\"}\n",
    "    ]\n",
    "}\n",
    "\n",
    "response = requests.post(url, headers=headers, json=data)\n",
    "\n",
    "print(response.status_code)  # HTTP 상태코드\n",
    "print(response.json())       # 서버에서 준 JSON 응답\n"
   ],
   "outputs": [
    {
     "name": "stdout",
     "output_type": "stream",
     "text": [
      "200\n",
      "{'response': '안녕하세요! 정민영입니다. 이름은 정민영입니다. 잘 지식을 활용해 드릴 수 있어요! 😊'}\n"
     ]
    }
   ],
   "execution_count": 11
  },
  {
   "metadata": {
    "ExecuteTime": {
     "end_time": "2025-09-04T14:50:09.096572Z",
     "start_time": "2025-09-04T14:50:09.091345Z"
    }
   },
   "cell_type": "code",
   "source": "response.json()['response']",
   "id": "d0b5da934ddc3c50",
   "outputs": [
    {
     "data": {
      "text/plain": [
       "'안녕하세요! 어떤 문제나 도움이 필요하시나요? 😊'"
      ]
     },
     "execution_count": 6,
     "metadata": {},
     "output_type": "execute_result"
    }
   ],
   "execution_count": 6
  }
 ],
 "metadata": {
  "kernelspec": {
   "display_name": "Python 3",
   "language": "python",
   "name": "python3"
  },
  "language_info": {
   "codemirror_mode": {
    "name": "ipython",
    "version": 2
   },
   "file_extension": ".py",
   "mimetype": "text/x-python",
   "name": "python",
   "nbconvert_exporter": "python",
   "pygments_lexer": "ipython2",
   "version": "2.7.6"
  }
 },
 "nbformat": 4,
 "nbformat_minor": 5
}
