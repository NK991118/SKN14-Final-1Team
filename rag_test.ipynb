{
 "cells": [
  {
   "cell_type": "code",
   "execution_count": 2,
   "id": "7f88a97b",
   "metadata": {},
   "outputs": [
    {
     "data": {
      "text/plain": [
       "True"
      ]
     },
     "execution_count": 2,
     "metadata": {},
     "output_type": "execute_result"
    }
   ],
   "source": [
    "from dotenv import load_dotenv\n",
    "import os\n",
    "\n",
    "# .env 파일 로드\n",
    "load_dotenv()"
   ]
  },
  {
   "cell_type": "code",
   "execution_count": 3,
   "id": "6c49b271",
   "metadata": {},
   "outputs": [
    {
     "name": "stderr",
     "output_type": "stream",
     "text": [
      "c:\\Users\\playdata\\miniconda3\\envs\\final_env\\Lib\\site-packages\\tqdm\\auto.py:21: TqdmWarning: IProgress not found. Please update jupyter and ipywidgets. See https://ipywidgets.readthedocs.io/en/stable/user_install.html\n",
      "  from .autonotebook import tqdm as notebook_tqdm\n",
      "C:\\Users\\playdata\\AppData\\Local\\Temp\\ipykernel_18932\\3941828245.py:20: LangChainDeprecationWarning: The class `Chroma` was deprecated in LangChain 0.2.9 and will be removed in 1.0. An updated version of the class exists in the :class:`~langchain-chroma package and should be used instead. To use it run `pip install -U :class:`~langchain-chroma` and import as `from :class:`~langchain_chroma import Chroma``.\n",
      "  vs = Chroma(\n"
     ]
    },
    {
     "name": "stdout",
     "output_type": "stream",
     "text": [
      "Vector store loaded. Count: 14858\n"
     ]
    }
   ],
   "source": [
    "import torch\n",
    "from langchain_community.vectorstores import Chroma\n",
    "from langchain_huggingface import HuggingFaceEmbeddings\n",
    "from openai import OpenAI\n",
    "\n",
    "# 경로/모델 설정\n",
    "DB_DIR = \"./chroma_db\"\n",
    "COLLECTION_NAME = \"qna_collection\"\n",
    "EMBED_MODEL = \"BAAI/bge-m3\"\n",
    "OPENAI_MODEL = \"gpt-4o-mini\"\n",
    "TOP_K = 5\n",
    "\n",
    "\n",
    "embeddings = HuggingFaceEmbeddings(\n",
    "    model_name=EMBED_MODEL,\n",
    "    encode_kwargs={\"normalize_embeddings\": True},\n",
    ")\n",
    "\n",
    "# 크로마 벡터스토어 로드\n",
    "vs = Chroma(\n",
    "    collection_name=COLLECTION_NAME,\n",
    "    persist_directory=DB_DIR,\n",
    "    embedding_function=embeddings,\n",
    ")\n",
    "\n",
    "# OpenAI 클라이언트\n",
    "oclient = OpenAI()\n",
    "\n",
    "print(\"Vector store loaded. Count:\", vs._collection.count())"
   ]
  },
  {
   "cell_type": "code",
   "execution_count": 4,
   "id": "c2464f15",
   "metadata": {},
   "outputs": [
    {
     "name": "stderr",
     "output_type": "stream",
     "text": [
      "C:\\Users\\playdata\\AppData\\Local\\Temp\\ipykernel_18932\\4218759091.py:2: LangChainDeprecationWarning: The method `BaseRetriever.get_relevant_documents` was deprecated in langchain-core 0.1.46 and will be removed in 1.0. Use :meth:`~invoke` instead.\n",
      "  test_docs = retriever.get_relevant_documents(\"BigQuery에서 새로운 데이터셋을 생성하는 방법은 무엇인가요?\")\n"
     ]
    },
    {
     "name": "stdout",
     "output_type": "stream",
     "text": [
      "검색 결과 개수: 5\n",
      "[1] source: [\"https://cloud.google.com/bigquery/docs/reference/rest\"]\n",
      "Q: BigQuery에서 새로운 데이터셋을 생성하는 방법은 무엇인가요? A: 새로운 데이터셋을 생성하려면 다음의 API 메서드를 사용합니다: `insert` 메서드. 요청은 다음과 같이 구성됩니다:  ``` POST /bigquery/v2/projects/{projectId}/datasets ``` 여기서 `{projectId}`는 데이터셋을 생성할 프로젝 \n",
      "---\n",
      "[2] source: [\"https://cloud.google.com/bigquery/docs/reference/rest/v2/datasets/insert\"]\n",
      "Q: BigQuery에서 새로운 데이터셋을 생성하기 위한 HTTP 요청은 어떻게 구성하나요? A: 새로운 데이터셋을 생성하기 위한 HTTP 요청은 다음과 같이 구성됩니다:  ``` POST https://bigquery.googleapis.com/bigquery/v2/projects/{projectId}/datasets ``` 여기서 `{projectId} \n",
      "---\n",
      "[3] source: [\"https://cloud.google.com/bigquery/docs/reference/rest\"]\n",
      "Q: BigQuery에서 특정 데이터셋에 새로운 루틴을 생성하는 방법은 무엇인가요? A: 새로운 루틴을 생성하려면 다음의 REST API를 사용합니다: POST /bigquery/v2/projects/{projectId}/datasets/{datasetId}/routines \n",
      "---\n",
      "[4] source: [\"https://cloud.google.com/bigquery/docs/reference/rest/v2/datasets\"]\n",
      "Q: BigQuery 데이터셋에 대한 태그를 설정하는 방법은 무엇인가요? A: 데이터셋에 태그(resourceTags)를 추가하려면, 데이터셋을 생성할 때 해당 필드를 사용하여 태그를 지정해야 합니다. 태그 키는 전역적으로 고유해야 하며, 예를 들어 '123456789012/environment' 형식이어야 합니다. 태그 값은 짧은 이름이어야 하며, 예를  \n",
      "---\n",
      "[5] source: [\"https://cloud.google.com/bigquery/docs/reference/rest/v2/tables/insert\"]\n",
      "Q: BigQuery에서 새로운 테이블을 생성하기 위한 HTTP 요청은 어떻게 구성하나요? A: 새로운 테이블을 생성하기 위한 HTTP 요청은 다음과 같이 구성됩니다:  ``` POST https://bigquery.googleapis.com/bigquery/v2/projects/{projectId}/datasets/{datasetId}/tables ``` \n",
      "---\n"
     ]
    }
   ],
   "source": [
    "retriever = vs.as_retriever(search_kwargs={\"k\": TOP_K})\n",
    "test_docs = retriever.get_relevant_documents(\"BigQuery에서 새로운 데이터셋을 생성하는 방법은 무엇인가요?\")\n",
    "print(\"검색 결과 개수:\", len(test_docs))\n",
    "for i, d in enumerate(test_docs, 1):\n",
    "    print(f\"[{i}] source:\", d.metadata.get(\"source\") or d.metadata.get(\"sources\"))\n",
    "    print(d.page_content[:200].replace(\"\\n\",\" \"), \"\\n---\")"
   ]
  },
  {
   "cell_type": "code",
   "execution_count": 5,
   "id": "3ae97e2f",
   "metadata": {},
   "outputs": [],
   "source": [
    "def _show_sources(meta) -> str:\n",
    "\n",
    "    s = meta.get(\"source\")\n",
    "    if not s:\n",
    "        s = meta.get(\"sources\")\n",
    "        if isinstance(s, list):\n",
    "            s = \", \".join([str(x) for x in s])\n",
    "    return s or \"(no source)\"\n",
    "\n",
    "def build_messages(user_query: str, docs):\n",
    "    lines = []\n",
    "    for i, d in enumerate(docs, start=1):\n",
    "        src = _show_sources(d.metadata or {})\n",
    "        body = d.page_content[:1200]\n",
    "        lines.append(f\"[{i}] source={src}\\n{body}\")\n",
    "    context_block = \"\\n\\n\".join(lines) if lines else \"(no context)\"\n",
    "\n",
    "    system_prompt = (\n",
    "        \"너는 Google API 문서 기반 한국어 어시스턴트다. \"\n",
    "        \"아래 제공된 근거 스니펫 안에서 확인 가능한 내용만 답하고, 모르면 모른다고 말해라. \"\n",
    "        \"고유 식별자/API/메서드/필드/에러명/옵션명은 원문 영문을 괄호로 병기하고, \"\n",
    "        \"코드 블록은 수정/번역하지 말고 원문 그대로 인용해라.\"\n",
    "    )\n",
    "\n",
    "    user_prompt = f\"\"\"사용자 질문:\n",
    "{user_query}\n",
    "\n",
    "[근거 스니펫]\n",
    "{context_block}\n",
    "\n",
    "요구사항:\n",
    "- 스니펫에서 직접 확인 가능한 사실만 사용.\n",
    "- 스니펫에서 확인 불가하거나 불확실하면 '문서에서 확인 불가'라고 명시.\n",
    "- 답변은 단순 요약이 아니라, 사용자가 이해하기 쉽게 **조금 더 설명**을 붙여라.\n",
    "- 답변 끝에는 '참고' 섹션을 추가하여, 본문에서 실제로 인용한 근거 번호와 해당 SOURCE URL만 나열하라. (다른 메타데이터는 제외)\n",
    "- 코드 블록이 있으면 그대로 인용하고, 필요시 짧은 해설을 추가하라.\n",
    "- 최종 출력은 한국어.\n",
    "\"\"\"\n",
    "    return [\n",
    "        {\"role\": \"system\", \"content\": system_prompt},\n",
    "        {\"role\": \"user\", \"content\": user_prompt},\n",
    "    ]\n",
    "\n",
    "def rag_answer(query: str, top_k: int = TOP_K):\n",
    "    # 1) 검색\n",
    "    retriever = vs.as_retriever(search_kwargs={\"k\": top_k})\n",
    "    docs = retriever.get_relevant_documents(query)\n",
    "\n",
    "    # 2) LLM 호출\n",
    "    messages = build_messages(query, docs)\n",
    "    resp = oclient.chat.completions.create(\n",
    "        model=OPENAI_MODEL,\n",
    "        messages=messages,\n",
    "        temperature=0.0,\n",
    "    )\n",
    "    answer = resp.choices[0].message.content\n",
    "    return answer, docs"
   ]
  },
  {
   "cell_type": "code",
   "execution_count": 19,
   "id": "94b77dc2",
   "metadata": {},
   "outputs": [
    {
     "name": "stdout",
     "output_type": "stream",
     "text": [
      "=== 질문 ===\n",
      "BigQuery에서 새로운 데이터셋을 생성하는 방법은 무엇인가요?\n",
      "\n",
      "=== 답변 ===\n",
      "BigQuery에서 새로운 데이터셋을 생성하려면 `insert` 메서드를 사용해야 합니다. 이 메서드는 HTTP POST 요청을 통해 호출되며, 요청 URL은 다음과 같이 구성됩니다:\n",
      "\n",
      "```\n",
      "POST https://bigquery.googleapis.com/bigquery/v2/projects/{projectId}/datasets\n",
      "```\n",
      "\n",
      "여기서 `{projectId}`는 데이터셋을 생성할 프로젝트의 ID를 의미합니다. 이 요청을 통해 새로운 데이터셋이 해당 프로젝트 내에 생성됩니다. 데이터셋을 생성할 때는 추가적인 설정이나 속성을 포함할 수 있으며, 필요한 경우 태그를 지정할 수도 있습니다.\n",
      "\n",
      "참고:\n",
      "- [1] https://cloud.google.com/bigquery/docs/reference/rest\n",
      "- [2] https://cloud.google.com/bigquery/docs/reference/rest/v2/datasets/insert\n"
     ]
    }
   ],
   "source": [
    "question = \"BigQuery에서 새로운 데이터셋을 생성하는 방법은 무엇인가요?\"\n",
    "answer, evidences = rag_answer(question)\n",
    "\n",
    "print(\"=== 질문 ===\")\n",
    "print(question)\n",
    "\n",
    "print(\"\\n=== 답변 ===\")\n",
    "print(answer.strip())"
   ]
  },
  {
   "cell_type": "code",
   "execution_count": 6,
   "id": "ccb8fce6",
   "metadata": {},
   "outputs": [
    {
     "name": "stdout",
     "output_type": "stream",
     "text": [
      "=== 질문 ===\n",
      "Firebase Admin SDK를 사용하여 커스텀 토큰을 만들기 위해 서비스 계정 JSON 파일을 사용하는 방법은 무엇인가요?\n",
      "\n",
      "=== 답변 ===\n",
      "Firebase Admin SDK를 사용하여 커스텀 토큰을 만들기 위해 서비스 계정 JSON 파일을 사용하는 방법은 다음과 같습니다. 먼저, Firebase Admin SDK를 초기화해야 합니다. 이 과정에서 서비스 계정 JSON 파일을 사용하여 Admin SDK를 설정할 수 있습니다. 이렇게 하면 원격 API 호출 없이 로컬에서 커스텀 토큰을 만들고 서명할 수 있습니다.\n",
      "\n",
      "다음은 Python에서 Admin SDK를 초기화하는 예시입니다:\n",
      "\n",
      "```python\n",
      "default_app = firebase_admin.initialize_app()\n",
      "```\n",
      "\n",
      "이 코드를 실행하면 Firebase Admin SDK가 초기화되고, 이후에 커스텀 토큰을 생성할 수 있는 준비가 완료됩니다. 서비스 계정 JSON 파일을 사용하면 애플리케이션의 보안성을 높이고, 코드에 민감한 정보를 포함할 필요가 없어집니다.\n",
      "\n",
      "또한, 서비스 계정 ID를 명시적으로 지정하여 초기화할 수도 있습니다. 이 방법은 애플리케이션의 다양한 부분에서 일관성을 유지하는 데 도움이 됩니다. 예를 들어, Node.js에서는 다음과 같이 사용할 수 있습니다:\n",
      "\n",
      "```javascript\n",
      "initializeApp({\n",
      "  serviceAccountId: 'my-client-id@my-project-id.iam.gserviceaccount.com',\n",
      "```\n",
      "\n",
      "이와 같은 방식으로 서비스 계정 ID를 사용하면 Google이 관리하는 환경에서 실행할 때 이 ID의 키가 토큰 서명에 사용됩니다.\n",
      "\n",
      "참고:\n",
      "1. [1] https://firebase.google.com/docs/auth/admin/create-custom-tokens?hl=ko\n",
      "2. [3] https://firebase.google.com/docs/auth/admin/create-custom-tokens?hl=ko\n",
      "4. [4] https://firebase.google.com/docs/auth/admin/create-custom-tokens?hl=ko\n"
     ]
    }
   ],
   "source": [
    "question = \"Firebase Admin SDK를 사용하여 커스텀 토큰을 만들기 위해 서비스 계정 JSON 파일을 사용하는 방법은 무엇인가요?\"\n",
    "answer, evidences = rag_answer(question)\n",
    "\n",
    "print(\"=== 질문 ===\")\n",
    "print(question)\n",
    "\n",
    "print(\"\\n=== 답변 ===\")\n",
    "print(answer.strip())"
   ]
  },
  {
   "cell_type": "code",
   "execution_count": 7,
   "id": "b629d0a6",
   "metadata": {},
   "outputs": [
    {
     "name": "stdout",
     "output_type": "stream",
     "text": [
      "=== 질문 ===\n",
      "People API를 사용하기 위해 quickstart.py 파일에 포함해야 할 기본 코드는 무엇인가요?\n",
      "\n",
      "=== 답변 ===\n",
      "People API를 사용하기 위해 `quickstart.py` 파일에 포함해야 할 기본 코드는 다음과 같습니다. 이 코드는 Google API에 접근하기 위한 인증 및 기본 설정을 포함하고 있습니다.\n",
      "\n",
      "```python\n",
      "import os.path\n",
      "\n",
      "from google.auth.transport.requests import Request\n",
      "from google.oauth2.credentials import Credentials\n",
      "from google_auth_oauthlib.flow import InstalledAppFlow\n",
      "from googleapiclient.discovery import build\n",
      "from googleapiclient.errors import HttpError\n",
      "\n",
      "# If modifying these scopes, delete the file token.json.\n",
      "SCOPES = [\"https://www.googleapis.com/auth/contacts.readonly\"]\n",
      "\n",
      "def main():\n",
      "  \"\"\"Shows basic usage of the People API.\n",
      "  Prints the name of the first 10 connections.\n",
      "  \"\"\"\n",
      "  creds = None\n",
      "  # The file token.json stores the user's access and refresh tokens, and is\n",
      "  # created automatically when the authorization flow completes for the first\n",
      "  # time.\n",
      "  if os.path.exists(\"token.json\"):\n",
      "    creds = Credentials.from_authorized_user_file(\"token.json\", SCOPES)\n",
      "  # If there are no (valid) credentials available, let the user log in.\n",
      "  if not creds or not creds.valid:\n",
      "    if creds and creds.expired and creds.refresh_token:\n",
      "      creds.refresh(Request())\n",
      "    else:\n",
      "      flow = InstalledAppFlow.from_client_secrets_file(\n",
      "          \"credentials.json\", SCOPES\n",
      "      )\n",
      "      creds = flow.run_local_server(port=0)\n",
      "```\n",
      "\n",
      "이 코드는 다음과 같은 기능을 수행합니다:\n",
      "1. 필요한 라이브러리를 임포트합니다.\n",
      "2. API 접근을 위한 권한 범위(SCOPES)를 정의합니다.\n",
      "3. `main()` 함수에서 사용자 인증을 처리하고, `token.json` 파일을 통해 저장된 자격 증명을 불러옵니다.\n",
      "4. 자격 증명이 유효하지 않거나 만료된 경우, 사용자가 로그인할 수 있도록 인증 흐름을 시작합니다.\n",
      "\n",
      "이 코드를 통해 Google People API에 접근하여 사용자의 연락처 정보를 읽을 수 있습니다.\n",
      "\n",
      "참고:\n",
      "- [1] https://developers.google.com/people/quickstart/python?hl=ko\n",
      "- [2] https://developers.google.com/people/quickstart/python?hl=ko\n"
     ]
    }
   ],
   "source": [
    "question = \"People API를 사용하기 위해 quickstart.py 파일에 포함해야 할 기본 코드는 무엇인가요?\"\n",
    "answer, evidences = rag_answer(question)\n",
    "\n",
    "print(\"=== 질문 ===\")\n",
    "print(question)\n",
    "\n",
    "print(\"\\n=== 답변 ===\")\n",
    "print(answer.strip())"
   ]
  }
 ],
 "metadata": {
  "kernelspec": {
   "display_name": "final_env",
   "language": "python",
   "name": "python3"
  },
  "language_info": {
   "codemirror_mode": {
    "name": "ipython",
    "version": 3
   },
   "file_extension": ".py",
   "mimetype": "text/x-python",
   "name": "python",
   "nbconvert_exporter": "python",
   "pygments_lexer": "ipython3",
   "version": "3.12.11"
  }
 },
 "nbformat": 4,
 "nbformat_minor": 5
}
