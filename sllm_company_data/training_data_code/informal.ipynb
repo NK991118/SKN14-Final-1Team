{
 "cells": [
  {
   "cell_type": "code",
   "execution_count": null,
   "id": "9b50b3aa",
   "metadata": {},
   "outputs": [
    {
     "name": "stdout",
     "output_type": "stream",
     "text": [
      "시스템 프롬프트가 모두 수정되었습니다.\n"
     ]
    }
   ],
   "source": [
    "import json\n",
    "\n",
    "# 파일 경로\n",
    "file_path = \"qwen3_company_train_dataset_formal.json\"\n",
    "\n",
    "tone_instruction = f\"기존의 말투는 잊고 가볍고 친근한 반말로 답변하세요.\"\n",
    "\n",
    "# 새 시스템 메시지\n",
    "new_system_message = f\"\"\"\n",
    "당신은 사내 지식을 활용하여 사용자의 질문에 정확하고 유용한 답변을 제공하는 한국인 AI 비서입니다.\n",
    "다음 지침을 따르세요:\n",
    "1. {tone_instruction}\n",
    "2. 사실에 기반한 정보를 사용하세요.\n",
    "3. 답변이 불확실한 경우, \"잘 모르겠습니다\"라고 솔직하게 말하세요.\n",
    "4. 답변이 너무 길지 않게 하세요.\n",
    "\"\"\"\n",
    "\n",
    "# JSON 파일 열기\n",
    "with open(file_path, \"r\", encoding=\"utf-8\") as f:\n",
    "    data = json.load(f)\n",
    "\n",
    "# 각 대화별로 첫 번째 system 메시지 수정\n",
    "for conversation in data:\n",
    "    messages = conversation.get(\"messages\", [])\n",
    "    if messages and messages[0][\"role\"] == \"system\":\n",
    "        messages[0][\"content\"] = new_system_message\n",
    "\n",
    "new_file_path = \"qwen3_company_train_dataset_informal.json\"\n",
    "\n",
    "# 수정된 JSON 파일 저장\n",
    "with open(new_file_path, \"w\", encoding=\"utf-8\") as f:\n",
    "    json.dump(data, f, ensure_ascii=False, indent=2)\n",
    "\n",
    "print(\"시스템 프롬프트가 모두 수정되었습니다.\")\n"
   ]
  },
  {
   "cell_type": "code",
   "execution_count": 2,
   "id": "7945189d",
   "metadata": {},
   "outputs": [
    {
     "name": "stdout",
     "output_type": "stream",
     "text": [
      "assistant 답변을 반말체로 변환해서 'qwen3_company_train_dataset_informal.json'에 저장했어.\n"
     ]
    }
   ],
   "source": [
    "import json\n",
    "from openai import OpenAI\n",
    "\n",
    "client = OpenAI()\n",
    "\n",
    "# 새로운 저장 파일 경로\n",
    "file_path = \"qwen3_company_train_dataset_informal.json\"\n",
    "\n",
    "# JSON 로드\n",
    "with open(file_path, \"r\", encoding=\"utf-8\") as f:\n",
    "    data = json.load(f)\n",
    "\n",
    "for conversation in data:\n",
    "    for msg in conversation.get(\"messages\", []):\n",
    "        if msg[\"role\"] == \"assistant\":\n",
    "            original_text = msg[\"content\"]\n",
    "\n",
    "            # GPT를 이용해 반말체로 변환\n",
    "            response = client.chat.completions.create(\n",
    "                model=\"gpt-4o-mini\",  # 원하는 모델로 변경 가능\n",
    "                messages=[\n",
    "                    {\"role\": \"system\", \"content\": \"너는 문장을 반말체로 바꿔주는 변환기야. 존댓말은 모두 반말로 바꿔.\"},\n",
    "                    {\"role\": \"user\", \"content\": original_text},\n",
    "                ],\n",
    "                temperature=0.3\n",
    "            )\n",
    "\n",
    "            informal_text = response.choices[0].message.content.strip()\n",
    "            msg[\"content\"] = informal_text\n",
    "\n",
    "# 새로운 JSON 파일 저장\n",
    "with open(file_path, \"w\", encoding=\"utf-8\") as f:\n",
    "    json.dump(data, f, ensure_ascii=False, indent=2)\n",
    "\n",
    "print(f\"assistant 답변을 반말체로 변환해서 '{file_path}'에 저장했어.\")\n"
   ]
  }
 ],
 "metadata": {
  "kernelspec": {
   "display_name": "ai_basic_env",
   "language": "python",
   "name": "python3"
  },
  "language_info": {
   "codemirror_mode": {
    "name": "ipython",
    "version": 3
   },
   "file_extension": ".py",
   "mimetype": "text/x-python",
   "name": "python",
   "nbconvert_exporter": "python",
   "pygments_lexer": "ipython3",
   "version": "3.12.9"
  }
 },
 "nbformat": 4,
 "nbformat_minor": 5
}
