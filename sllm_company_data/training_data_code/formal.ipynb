{
 "cells": [
  {
   "cell_type": "code",
   "execution_count": null,
   "id": "07b2f7bb",
   "metadata": {},
   "outputs": [
    {
     "name": "stdout",
     "output_type": "stream",
     "text": [
      "시스템 프롬프트가 모두 수정되었습니다.\n"
     ]
    }
   ],
   "source": [
    "import json\n",
    "\n",
    "# 파일 경로\n",
    "file_path = \"qwen3_company_train_dataset.json\"\n",
    "\n",
    "tone_instruction = f\"기존의 말투는 잊고 정중하고 사무적인 어조로 답변하세요.\"\n",
    "\n",
    "# 새 시스템 메시지\n",
    "new_system_message = f\"\"\"\n",
    "당신은 사내 지식을 활용하여 사용자의 질문에 정확하고 유용한 답변을 제공하는 한국인 AI 비서입니다.\n",
    "다음 지침을 따르세요:\n",
    "1. {tone_instruction}\n",
    "2. 사실에 기반한 정보를 사용하세요.\n",
    "3. 답변이 불확실한 경우, \"잘 모르겠습니다\"라고 솔직하게 말하세요.\n",
    "4. 답변이 너무 길지 않게 하세요.\n",
    "\"\"\"\n",
    "\n",
    "# JSON 파일 열기\n",
    "with open(file_path, \"r\", encoding=\"utf-8\") as f:\n",
    "    data = json.load(f)\n",
    "\n",
    "# 각 대화별로 첫 번째 system 메시지 수정\n",
    "for conversation in data:\n",
    "    messages = conversation.get(\"messages\", [])\n",
    "    if messages and messages[0][\"role\"] == \"system\":\n",
    "        messages[0][\"content\"] = new_system_message\n",
    "\n",
    "new_file_path = \"qwen3_company_train_dataset_formal.json\"\n",
    "\n",
    "# 수정된 JSON 파일 저장\n",
    "with open(new_file_path, \"w\", encoding=\"utf-8\") as f:\n",
    "    json.dump(data, f, ensure_ascii=False, indent=2)\n",
    "\n",
    "print(\"시스템 프롬프트가 모두 수정되었습니다.\")\n"
   ]
  },
  {
   "cell_type": "code",
   "execution_count": null,
   "id": "e3d25081",
   "metadata": {},
   "outputs": [
    {
     "name": "stdout",
     "output_type": "stream",
     "text": [
      "user 메시지에 검색 결과가 추가되었습니다.\n"
     ]
    }
   ],
   "source": [
    "import json\n",
    "\n",
    "file_path = \"qwen3_company_train_dataset_formal.json\"\n",
    "\n",
    "with open(file_path, \"r\", encoding=\"utf-8\") as f:\n",
    "    data = json.load(f)\n",
    "\n",
    "for conversation in data:\n",
    "    messages = conversation.get(\"messages\", [])\n",
    "    # 삭제할 system 메시지의 인덱스를 모아두기\n",
    "    remove_indices = []\n",
    "    for i, msg in enumerate(messages):\n",
    "        if msg[\"role\"] == \"system\" and msg[\"content\"].startswith(\"검색 결과\"):\n",
    "            # 이전 메시지가 user인지 확인\n",
    "            if i > 0 and messages[i-1][\"role\"] == \"user\":\n",
    "                messages[i-1][\"content\"] += \"\\n\" + msg[\"content\"]\n",
    "            # 나중에 삭제할 인덱스 저장\n",
    "            remove_indices.append(i)\n",
    "    \n",
    "    # 뒤에서부터 삭제해야 인덱스 꼬이지 않음\n",
    "    for idx in reversed(remove_indices):\n",
    "        messages.pop(idx)\n",
    "\n",
    "# 수정된 JSON 저장\n",
    "with open(file_path, \"w\", encoding=\"utf-8\") as f:\n",
    "    json.dump(data, f, ensure_ascii=False, indent=2)\n",
    "\n",
    "print(\"user 메시지에 검색 결과가 추가되었습니다.\")"
   ]
  }
 ],
 "metadata": {
  "kernelspec": {
   "display_name": "ai_basic_env",
   "language": "python",
   "name": "python3"
  },
  "language_info": {
   "codemirror_mode": {
    "name": "ipython",
    "version": 3
   },
   "file_extension": ".py",
   "mimetype": "text/x-python",
   "name": "python",
   "nbconvert_exporter": "python",
   "pygments_lexer": "ipython3",
   "version": "3.12.9"
  }
 },
 "nbformat": 4,
 "nbformat_minor": 5
}
