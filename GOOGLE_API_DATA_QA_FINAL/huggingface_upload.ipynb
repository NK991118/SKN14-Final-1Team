{
 "cells": [
  {
   "metadata": {
    "ExecuteTime": {
     "end_time": "2025-09-29T07:39:36.773090Z",
     "start_time": "2025-09-29T07:39:36.749847Z"
    }
   },
   "cell_type": "code",
   "source": [
    "from dotenv import load_dotenv\n",
    "\n",
    "load_dotenv()"
   ],
   "id": "376d40df4d01672e",
   "outputs": [
    {
     "data": {
      "text/plain": [
       "True"
      ]
     },
     "execution_count": 1,
     "metadata": {},
     "output_type": "execute_result"
    }
   ],
   "execution_count": 1
  },
  {
   "cell_type": "code",
   "id": "initial_id",
   "metadata": {
    "collapsed": true,
    "ExecuteTime": {
     "end_time": "2025-09-29T07:39:42.450431Z",
     "start_time": "2025-09-29T07:39:41.460395Z"
    }
   },
   "source": [
    "from huggingface_hub import HfApi\n",
    "\n",
    "api = HfApi()\n",
    "\n",
    "# 내 사용자 네임스페이스에 만들기 (로그인/토큰이 이미 설정되어 있다면)\n",
    "api.create_repo(\n",
    "    repo_id=\"google-api-qa-data-ko\",   # ← name 아님!\n",
    "    repo_type=\"dataset\",\n",
    "    private=False,         # 공개로 하려면 False\n",
    "    exist_ok=True         # 이미 있으면 에러 대신 통과\n",
    ")"
   ],
   "outputs": [
    {
     "data": {
      "text/plain": [
       "RepoUrl('https://huggingface.co/datasets/SKN14-Final-1Team/google-api-qa-data-ko', endpoint='https://huggingface.co', repo_type='dataset', repo_id='SKN14-Final-1Team/google-api-qa-data-ko')"
      ]
     },
     "execution_count": 2,
     "metadata": {},
     "output_type": "execute_result"
    }
   ],
   "execution_count": 2
  },
  {
   "metadata": {
    "ExecuteTime": {
     "end_time": "2025-09-29T07:39:47.791909Z",
     "start_time": "2025-09-29T07:39:47.775005Z"
    }
   },
   "cell_type": "code",
   "source": "REPO_ID = \"SKN14-Final-1Team/google-api-qa-data-ko\"\n",
   "id": "425d2957165e8312",
   "outputs": [],
   "execution_count": 3
  },
  {
   "metadata": {
    "ExecuteTime": {
     "end_time": "2025-09-29T07:40:12.422477Z",
     "start_time": "2025-09-29T07:40:07.177883Z"
    }
   },
   "cell_type": "code",
   "source": [
    "from huggingface_hub import upload_file\n",
    "\n",
    "# 2) 파일 업로드 (단일 파일)\n",
    "upload_file(\n",
    "    path_or_fileobj=\"google_api_qa_dataset.jsonl\",\n",
    "    path_in_repo=\"data/google_api_qa_dataset.jsonl\",\n",
    "    repo_id=REPO_ID,\n",
    "    repo_type=\"dataset\",\n",
    ")"
   ],
   "id": "9cd3dfbc3479f69e",
   "outputs": [
    {
     "data": {
      "text/plain": [
       "CommitInfo(commit_url='https://huggingface.co/datasets/SKN14-Final-1Team/google-api-qa-data-ko/commit/1058345079fe115dc954670f6b3ef45d452f6815', commit_message='Upload data/google_api_qa_dataset.jsonl with huggingface_hub', commit_description='', oid='1058345079fe115dc954670f6b3ef45d452f6815', pr_url=None, repo_url=RepoUrl('https://huggingface.co/datasets/SKN14-Final-1Team/google-api-qa-data-ko', endpoint='https://huggingface.co', repo_type='dataset', repo_id='SKN14-Final-1Team/google-api-qa-data-ko'), pr_revision=None, pr_num=None)"
      ]
     },
     "execution_count": 4,
     "metadata": {},
     "output_type": "execute_result"
    }
   ],
   "execution_count": 4
  }
 ],
 "metadata": {
  "kernelspec": {
   "display_name": "Python 3",
   "language": "python",
   "name": "python3"
  },
  "language_info": {
   "codemirror_mode": {
    "name": "ipython",
    "version": 2
   },
   "file_extension": ".py",
   "mimetype": "text/x-python",
   "name": "python",
   "nbconvert_exporter": "python",
   "pygments_lexer": "ipython2",
   "version": "2.7.6"
  }
 },
 "nbformat": 4,
 "nbformat_minor": 5
}
